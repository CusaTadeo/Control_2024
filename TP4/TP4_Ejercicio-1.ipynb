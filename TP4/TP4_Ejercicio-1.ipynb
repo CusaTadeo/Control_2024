{
 "cells": [
  {
   "cell_type": "code",
   "execution_count": 17,
   "metadata": {},
   "outputs": [],
   "source": [
    "import control as ct\n",
    "import matplotlib.pyplot as plt\n",
    "import numpy as np\n",
    "import sympy as sp\n",
    "import pandas as pd\n",
    "\n",
    "\n",
    "\n",
    "fuente = {'family': 'fantasy',\n",
    "        'color':  'black',\n",
    "        'weight': 'bold',\n",
    "        'size': 14,\n",
    "        } "
   ]
  },
  {
   "cell_type": "code",
   "execution_count": 18,
   "metadata": {},
   "outputs": [
    {
     "data": {
      "text/latex": [
       "$$\\frac{s + 1}{s^3 + 5 s^2 + 6 s}$$"
      ],
      "text/plain": [
       "TransferFunction(array([1, 1]), array([1, 5, 6, 0]))"
      ]
     },
     "execution_count": 18,
     "metadata": {},
     "output_type": "execute_result"
    }
   ],
   "source": [
    "s = ct.tf('s')\n",
    "H= (s+1)/(s*(s+2)*(s+3))\n",
    "H"
   ]
  },
  {
   "cell_type": "code",
   "execution_count": 19,
   "metadata": {},
   "outputs": [
    {
     "data": {
      "text/plain": [
       "array([[list([<matplotlib.lines.Line2D object at 0x000001D57D30B1A0>]),\n",
       "        list([<matplotlib.lines.Line2D object at 0x000001D57DA691F0>]),\n",
       "        list([<matplotlib.lines.Line2D object at 0x000001D57DA694F0>, <matplotlib.lines.Line2D object at 0x000001D57DA697F0>, <matplotlib.lines.Line2D object at 0x000001D57DA69AC0>])]],\n",
       "      dtype=object)"
      ]
     },
     "execution_count": 19,
     "metadata": {},
     "output_type": "execute_result"
    }
   ],
   "source": [
    "ct.rlocus(H)"
   ]
  },
  {
   "cell_type": "code",
   "execution_count": null,
   "metadata": {},
   "outputs": [],
   "source": [
    "s = ct.tf('s')\n",
    "H1= 1/(s*(s**2+4*s+5))\n",
    "H1"
   ]
  },
  {
   "cell_type": "code",
   "execution_count": null,
   "metadata": {},
   "outputs": [],
   "source": [
    "ct.rlocus(H1)"
   ]
  },
  {
   "cell_type": "code",
   "execution_count": null,
   "metadata": {},
   "outputs": [],
   "source": [
    "s = ct.tf('s')\n",
    "H2= 1/(s*(s**2+6*s+25))\n",
    "ct.rlocus(H2)"
   ]
  },
  {
   "cell_type": "code",
   "execution_count": null,
   "metadata": {},
   "outputs": [],
   "source": [
    "s = ct.tf('s')\n",
    "H3= 1/(s*(s**2+6*s+12))\n",
    "ct.rlocus(H3)"
   ]
  },
  {
   "cell_type": "code",
   "execution_count": null,
   "metadata": {},
   "outputs": [],
   "source": []
  }
 ],
 "metadata": {
  "kernelspec": {
   "display_name": "Python 3.12.4 ('dyc')",
   "language": "python",
   "name": "python3"
  },
  "language_info": {
   "codemirror_mode": {
    "name": "ipython",
    "version": 3
   },
   "file_extension": ".py",
   "mimetype": "text/x-python",
   "name": "python",
   "nbconvert_exporter": "python",
   "pygments_lexer": "ipython3",
   "version": "3.12.5"
  },
  "orig_nbformat": 4,
  "vscode": {
   "interpreter": {
    "hash": "ca4c7c9b68cef139e714fc4c8acd54c3a42fd4528a9ce280fd99bd643eca9e40"
   }
  }
 },
 "nbformat": 4,
 "nbformat_minor": 2
}
