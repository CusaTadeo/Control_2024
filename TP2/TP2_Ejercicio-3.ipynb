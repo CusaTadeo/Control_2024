{
 "cells": [
  {
   "cell_type": "code",
   "execution_count": null,
   "metadata": {},
   "outputs": [],
   "source": []
  },
  {
   "cell_type": "markdown",
   "metadata": {},
   "source": [
    "A = Y2(S)\n",
    "B = Y4(S)\n",
    "C = Y5(S)\n",
    "\n",
    "D = Y3(S)\n",
    "E = Y6(S)\n",
    "F = Y8(S)\n",
    "\n",
    "G = Y9(S)\n",
    "H = Y7(S)\n",
    "K = Y1(S)\n",
    " \n",
    " "
   ]
  },
  {
   "cell_type": "markdown",
   "metadata": {},
   "source": [
    "Repasar en casa, teorema del valor inicial, final e implicancia de las derivadas."
   ]
  },
  {
   "cell_type": "markdown",
   "metadata": {},
   "source": []
  }
 ],
 "metadata": {
  "kernelspec": {
   "display_name": "Python 3.12.4 ('dyc')",
   "language": "python",
   "name": "python3"
  },
  "language_info": {
   "name": "python",
   "version": "3.12.4"
  },
  "orig_nbformat": 4,
  "vscode": {
   "interpreter": {
    "hash": "ca4c7c9b68cef139e714fc4c8acd54c3a42fd4528a9ce280fd99bd643eca9e40"
   }
  }
 },
 "nbformat": 4,
 "nbformat_minor": 2
}
