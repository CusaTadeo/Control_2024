{
 "cells": [
  {
   "cell_type": "code",
   "execution_count": null,
   "metadata": {},
   "outputs": [],
   "source": [
    "import numpy as np"
   ]
  },
  {
   "cell_type": "code",
   "execution_count": 43,
   "metadata": {},
   "outputs": [],
   "source": [
    "def routh_hurwitz(coefficients):\n",
    "    n = len(coefficients)\n",
    "    routh_array = []\n",
    "\n",
    "    routh_array.append(coefficients[0::2])\n",
    "    routh_array.append(coefficients[1::2] + [0] * (len(routh_array[0]) - len(coefficients[1::2])))\n",
    "\n",
    "    for i in range(2, n):\n",
    "        row = []\n",
    "        for j in range(len(routh_array[0]) - 1):\n",
    "            a = routh_array[i - 2][0]\n",
    "            b = routh_array[i - 1][0]\n",
    "            c = routh_array[i - 1][j + 1] if (j + 1) < len(routh_array[i - 1]) else 0\n",
    "            d = routh_array[i - 2][j + 1] if (j + 1) < len(routh_array[i - 2]) else 0\n",
    "            element = (b * d - a * c) / b if b != 0 else 0\n",
    "            row.append(element)\n",
    "\n",
    "        if all(e == 0 for e in row):\n",
    "            row = [0] * len(routh_array[0])\n",
    "        routh_array.append(row)\n",
    "\n",
    "    first_column = [row[0] for row in routh_array if row[0] != 0]\n",
    "    sign_changes = np.sum(np.diff(np.sign(first_column)) != 0)\n",
    "\n",
    "    return sign_changes"
   ]
  },
  {
   "cell_type": "code",
   "execution_count": 46,
   "metadata": {},
   "outputs": [
    {
     "name": "stdout",
     "output_type": "stream",
     "text": [
      "El sistema se vuelve inestable para K >= 100.0.\n",
      "El sistema se vuelve estable nuevamente para K <= 3.35999999995056.\n"
     ]
    }
   ],
   "source": [
    "def find_critical_k():\n",
    "    stable_k = None\n",
    "    unstable_k = None\n",
    "    \n",
    "    for K in np.arange(100, -100, -0.01):  \n",
    "        coefficients = [1, 12, 40, 100 * K,  100 * K] #aca pongo el polinomio\n",
    "        sign_changes = routh_hurwitz(coefficients)\n",
    "\n",
    "        if sign_changes > 0 and unstable_k is None:\n",
    "            unstable_k = K  # Almacenamos el primer K que hace inestable al sistema\n",
    "\n",
    "        if sign_changes == 0 and unstable_k is not None and stable_k is None:\n",
    "            stable_k = K  # Almacenamos el primer K que hace el sistema estable nuevamente\n",
    "    \n",
    "    return unstable_k, stable_k\n",
    "\n",
    "unstable_k, stable_k = find_critical_k()\n",
    "print(f\"El sistema se vuelve inestable para K >= {unstable_k}.\")\n",
    "print(f\"El sistema se vuelve estable nuevamente para K <= {stable_k}.\")"
   ]
  },
  {
   "cell_type": "code",
   "execution_count": null,
   "metadata": {},
   "outputs": [],
   "source": []
  }
 ],
 "metadata": {
  "kernelspec": {
   "display_name": "Python 3",
   "language": "python",
   "name": "python3"
  },
  "language_info": {
   "codemirror_mode": {
    "name": "ipython",
    "version": 3
   },
   "file_extension": ".py",
   "mimetype": "text/x-python",
   "name": "python",
   "nbconvert_exporter": "python",
   "pygments_lexer": "ipython3",
   "version": "3.12.5"
  }
 },
 "nbformat": 4,
 "nbformat_minor": 2
}
